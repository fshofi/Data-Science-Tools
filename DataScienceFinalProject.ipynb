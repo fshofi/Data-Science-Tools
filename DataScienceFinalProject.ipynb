{
  "metadata": {
    "kernelspec": {
      "name": "python",
      "display_name": "Python (Pyodide)",
      "language": "python"
    },
    "language_info": {
      "codemirror_mode": {
        "name": "python",
        "version": 3
      },
      "file_extension": ".py",
      "mimetype": "text/x-python",
      "name": "python",
      "nbconvert_exporter": "python",
      "pygments_lexer": "ipython3",
      "version": "3.8"
    }
  },
  "nbformat_minor": 4,
  "nbformat": 4,
  "cells": [
    {
      "cell_type": "markdown",
      "source": "# Data Science Final Project\n",
      "metadata": {}
    },
    {
      "cell_type": "markdown",
      "source": "## Introduction\n\nThis notebook is part of the Data Science Final Project. It will demonstrate various data science tools and techniques learned throughout the course. The project includes data analysis, visualization, and interpretation tasks aimed at providing insights from the given dataset.\n",
      "metadata": {}
    },
    {
      "cell_type": "markdown",
      "source": "## Data Science Languages\n\nBelow is a list of popular data science languages:\n\n1. Python\n2. R\n3. SQL\n4. Julia\n5. Scala\n6. Java\n7. C++\n8. MATLAB\n9. SAS\n10. JavaScript\n",
      "metadata": {}
    },
    {
      "cell_type": "markdown",
      "source": "## Data Science Libraries\n\nBelow is a list of popular data science libraries:\n\n1. NumPy\n2. Pandas\n3. Matplotlib\n4. Seaborn\n5. SciPy\n6. Scikit-learn\n7. TensorFlow\n8. Keras\n9. PyTorch\n10. Statsmodels\n",
      "metadata": {}
    },
    {
      "cell_type": "markdown",
      "source": "## Data Science Tools\n\nBelow is a table of popular data science tools:\n\n| Tool           | Description                          |\n|----------------|--------------------------------------|\n| Jupyter Notebook | An open-source web application that allows you to create and share documents that contain live code, equations, visualizations, and narrative text. |\n| RStudio        | An integrated development environment for R. |\n| Apache Hadoop  | A framework that allows for the distributed processing of large data sets across clusters of computers. |\n| Apache Spark   | An open-source unified analytics engine for large-scale data processing. |\n| Tableau        | A data visualization tool that is used for converting raw data into an understandable format. |\n\n",
      "metadata": {}
    },
    {
      "cell_type": "markdown",
      "source": "## Arithmetic Expression Examples\n\nThis section demonstrates examples of arithmetic expressions.\n",
      "metadata": {}
    },
    {
      "cell_type": "code",
      "source": "# Example of multiplying and adding integers\nresult = (5 * 3) + 2\nresult\n",
      "metadata": {
        "trusted": true
      },
      "outputs": [
        {
          "execution_count": 3,
          "output_type": "execute_result",
          "data": {
            "text/plain": "17"
          },
          "metadata": {}
        }
      ],
      "execution_count": 3
    },
    {
      "cell_type": "code",
      "source": "# Convert minutes to hours\nminutes = 150\nhours = minutes / 60\nhours\n",
      "metadata": {
        "trusted": true
      },
      "outputs": [
        {
          "execution_count": 4,
          "output_type": "execute_result",
          "data": {
            "text/plain": "2.5"
          },
          "metadata": {}
        }
      ],
      "execution_count": 4
    },
    {
      "cell_type": "markdown",
      "source": "## Objectives\n\nThe objectives of this notebook are:\n\n- Demonstrate the use of Jupyter Notebooks\n- Perform basic arithmetic operations in Python\n- Convert units of measurement\n- Create and render markdown cells\n- Utilize various data science tools and libraries\n",
      "metadata": {}
    },
    {
      "cell_type": "markdown",
      "source": "## Author\n\nThis notebook was created by Shofi Ahmed Uddin.\n",
      "metadata": {}
    },
    {
      "cell_type": "code",
      "source": "",
      "metadata": {
        "trusted": true
      },
      "outputs": [],
      "execution_count": null
    }
  ]
}